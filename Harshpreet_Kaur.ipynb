{
  "nbformat": 4,
  "nbformat_minor": 0,
  "metadata": {
    "colab": {
      "provenance": [],
      "mount_file_id": "1BFWZw-W0pQm1a0kpGrkdP64gSJ12Onnz",
      "authorship_tag": "ABX9TyOs1jSGKRuS4hv7BfnsQa5y",
      "include_colab_link": true
    },
    "kernelspec": {
      "name": "python3",
      "display_name": "Python 3"
    },
    "language_info": {
      "name": "python"
    }
  },
  "cells": [
    {
      "cell_type": "markdown",
      "metadata": {
        "id": "view-in-github",
        "colab_type": "text"
      },
      "source": [
        "<a href=\"https://colab.research.google.com/github/Harsh13964/Python-/blob/main/Harshpreet_Kaur.ipynb\" target=\"_parent\"><img src=\"https://colab.research.google.com/assets/colab-badge.svg\" alt=\"Open In Colab\"/></a>"
      ]
    },
    {
      "cell_type": "markdown",
      "source": [
        "Assignment 1"
      ],
      "metadata": {
        "id": "EXCXSH1ejag_"
      }
    },
    {
      "cell_type": "code",
      "source": [
        "# 1 Declare and print\n",
        "\n",
        "name = \"Harsh\"\n",
        "age = 21\n",
        "course = \"Artificial Intelligence\"\n",
        "print(\"Name:\", name, \" Age:\", age, \" Course:\", course)"
      ],
      "metadata": {
        "colab": {
          "base_uri": "https://localhost:8080/"
        },
        "id": "-kPk7VcxeU79",
        "outputId": "be897ced-1289-4113-cff7-2371a8a431ee"
      },
      "execution_count": null,
      "outputs": [
        {
          "output_type": "stream",
          "name": "stdout",
          "text": [
            "Name: Harsh  Age: 21  Course: Artificial Intelligence\n"
          ]
        }
      ]
    },
    {
      "cell_type": "code",
      "source": [
        "# 2 Swap two numbers\n",
        "a=4\n",
        "b=9\n",
        "print(\"a=\",b)\n",
        "print(\"b=\",a)"
      ],
      "metadata": {
        "colab": {
          "base_uri": "https://localhost:8080/"
        },
        "id": "AxssqUeEfE50",
        "outputId": "c9fab83f-07a0-4405-cac2-fbd24fe2844d"
      },
      "execution_count": null,
      "outputs": [
        {
          "output_type": "stream",
          "name": "stdout",
          "text": [
            "a= 9\n",
            "b= 4\n"
          ]
        }
      ]
    },
    {
      "cell_type": "code",
      "source": [
        "# 3 Arithmetic operations\n",
        "a=12\n",
        "b=43\n",
        "print(a+b)\n",
        "print(a-b)\n",
        "print(a/b)\n",
        "print(a*b)\n",
        "print(a%b)"
      ],
      "metadata": {
        "colab": {
          "base_uri": "https://localhost:8080/"
        },
        "id": "_TQ7uGDNg-tj",
        "outputId": "5b8109bf-0548-42d9-a71c-b078951049cb"
      },
      "execution_count": null,
      "outputs": [
        {
          "output_type": "stream",
          "name": "stdout",
          "text": [
            "55\n",
            "-31\n",
            "0.27906976744186046\n",
            "516\n",
            "12\n"
          ]
        }
      ]
    },
    {
      "cell_type": "code",
      "source": [
        "#4 Take marks of five subjects and calculate the total and percentage\n",
        "a=88\n",
        "b=79\n",
        "c=81\n",
        "d=69\n",
        "e=57\n",
        "\n",
        "total=a+b+c+d+e\n",
        "print(total)\n",
        "percentage = total/500*100\n",
        "print(percentage )"
      ],
      "metadata": {
        "colab": {
          "base_uri": "https://localhost:8080/"
        },
        "id": "SNEgMfUdaobg",
        "outputId": "d6de59df-e752-4dbc-f57c-a66de18e0eac"
      },
      "execution_count": null,
      "outputs": [
        {
          "output_type": "stream",
          "name": "stdout",
          "text": [
            "374\n",
            "74.8\n"
          ]
        }
      ]
    },
    {
      "cell_type": "code",
      "source": [
        "#5 Use compound assignment operator\n",
        "x=12\n",
        "print (x)\n",
        "x+=5\n",
        "print (x)\n",
        "x-=3\n",
        "print (x)\n",
        "x*=4\n",
        "print (x)\n",
        "x/=2\n",
        "print(x)"
      ],
      "metadata": {
        "colab": {
          "base_uri": "https://localhost:8080/"
        },
        "id": "S2OzO2GCcDpA",
        "outputId": "a1815a19-b219-4443-a889-ac59b5b84e2c"
      },
      "execution_count": null,
      "outputs": [
        {
          "output_type": "stream",
          "name": "stdout",
          "text": [
            "12\n",
            "17\n",
            "14\n",
            "56\n",
            "28.0\n"
          ]
        }
      ]
    },
    {
      "cell_type": "code",
      "source": [
        "##6 Realational Operator check\n",
        "a=442\n",
        "b=443\n",
        "\n",
        "if a==b:\n",
        "  print (\"both are equal\")\n",
        "elif a>b:\n",
        "  print(\"First is greater\")\n",
        "else:\n",
        "  print (\"Second is greater\")"
      ],
      "metadata": {
        "colab": {
          "base_uri": "https://localhost:8080/"
        },
        "id": "WawwgE15leN3",
        "outputId": "d92c5a0c-f406-4b31-f4a8-bfb88b7479db"
      },
      "execution_count": null,
      "outputs": [
        {
          "output_type": "stream",
          "name": "stdout",
          "text": [
            "Second is greater\n"
          ]
        }
      ]
    },
    {
      "cell_type": "code",
      "source": [
        "##7 Logical Operator challenge\n",
        "is_raining = True\n",
        "have_umbrella =False\n",
        "\n",
        "print(is_raining & have_umbrella)\n",
        "\n",
        "print(is_raining | have_umbrella )\n",
        "\n",
        "if not is_raining or (is_raining and have_umbrella):\n",
        "  print (\"You can go outside.\")\n",
        "else:\n",
        "  print (\"You cannot go outside. \")\n"
      ],
      "metadata": {
        "colab": {
          "base_uri": "https://localhost:8080/"
        },
        "id": "gb74XD3mnQY0",
        "outputId": "00b22321-205e-4429-a6bc-10203def9960"
      },
      "execution_count": null,
      "outputs": [
        {
          "output_type": "stream",
          "name": "stdout",
          "text": [
            "False\n",
            "True\n",
            "You cannot go outside. \n"
          ]
        }
      ]
    },
    {
      "cell_type": "code",
      "source": [
        "##8 Identity operator\n",
        "list1=[1,2,3]\n",
        "list2=[1,2,3]\n",
        "print(list1==list2)\n",
        "print(list1 is list2)"
      ],
      "metadata": {
        "colab": {
          "base_uri": "https://localhost:8080/"
        },
        "id": "LsaKlEGDundm",
        "outputId": "d9e15fc0-1cf6-459d-ad38-e93af9261b83"
      },
      "execution_count": null,
      "outputs": [
        {
          "output_type": "stream",
          "name": "stdout",
          "text": [
            "True\n",
            "False\n"
          ]
        }
      ]
    },
    {
      "cell_type": "code",
      "source": [
        "##9 Bitwise operator\n",
        "a=27\n",
        "b=42\n",
        "\n",
        "print(a&b) #AND\n",
        "print(a|b) #OR\n",
        "print(a^b) #XOR"
      ],
      "metadata": {
        "id": "3Tr02TIIvws-",
        "colab": {
          "base_uri": "https://localhost:8080/"
        },
        "outputId": "387da206-aa49-4c70-f4a7-915a79e60d6c"
      },
      "execution_count": null,
      "outputs": [
        {
          "output_type": "stream",
          "name": "stdout",
          "text": [
            "10\n",
            "59\n",
            "49\n"
          ]
        }
      ]
    },
    {
      "cell_type": "code",
      "source": [
        "##10 Variables type aand typecasting\n",
        "a = 6.6\n",
        "b = 7\n",
        "\n",
        "print (\"type of int_num:\", type(a))\n",
        "print(\"type of float_num:\",type(b))\n",
        "\n",
        "sum = a+b\n",
        "print(\"sum as integer:\",(sum))\n"
      ],
      "metadata": {
        "colab": {
          "base_uri": "https://localhost:8080/"
        },
        "id": "vT1C7PuP9BR6",
        "outputId": "b9a48e3e-86e6-40d1-84a7-d6ce7b7d0a56"
      },
      "execution_count": null,
      "outputs": [
        {
          "output_type": "stream",
          "name": "stdout",
          "text": [
            "type of int_num: <class 'float'>\n",
            "type of float_num: <class 'int'>\n",
            "sum as integer: 13.6\n"
          ]
        }
      ]
    },
    {
      "cell_type": "markdown",
      "source": [
        "Assignment 2"
      ],
      "metadata": {
        "id": "CKxBbzmsjpab"
      }
    },
    {
      "cell_type": "code",
      "source": [
        "#1 To print number 1 to 10 but stop the loop when number reaches 9\n",
        "\n",
        "for i in range(1,14):\n",
        "  if i==11:\n",
        "    break\n",
        "  print(i)"
      ],
      "metadata": {
        "colab": {
          "base_uri": "https://localhost:8080/"
        },
        "id": "ZbwyTtG3BFA3",
        "outputId": "e6ec4485-5cf7-40d3-85b2-3ebaf6b6a084"
      },
      "execution_count": null,
      "outputs": [
        {
          "output_type": "stream",
          "name": "stdout",
          "text": [
            "1\n",
            "2\n",
            "3\n",
            "4\n",
            "5\n",
            "6\n",
            "7\n",
            "8\n",
            "9\n",
            "10\n"
          ]
        }
      ]
    },
    {
      "cell_type": "code",
      "source": [
        "##2 To print +ve numbers and show -ve numbers when user input -ve numbers.\n",
        "\n",
        "number=int(input(\"Enter the number:\"))\n",
        "if number>=0:\n",
        " print(f\"you entered:{number}\")\n",
        "else:\n",
        "  print(\"Entered no is negtive\")"
      ],
      "metadata": {
        "id": "oh-vPZKzInOC",
        "colab": {
          "base_uri": "https://localhost:8080/"
        },
        "outputId": "e19245f1-34e4-4692-f44e-4a725a4e8fc6"
      },
      "execution_count": null,
      "outputs": [
        {
          "output_type": "stream",
          "name": "stdout",
          "text": [
            "Enter the number:-8\n",
            "Entered no is negtive\n"
          ]
        }
      ]
    },
    {
      "cell_type": "code",
      "source": [
        "#3 To find first even nmber in the list using for loop and break\n",
        "\n",
        "list=[3,9,33,22,53,89,8,62,75]\n",
        "for l in list:\n",
        "  if l % 2==0:\n",
        "    print(\"First Even no found:\",l)\n",
        "    break"
      ],
      "metadata": {
        "id": "QszDn47Ih4Lp",
        "colab": {
          "base_uri": "https://localhost:8080/"
        },
        "outputId": "0b361704-b265-4ec1-b68e-e1f960ad5cfe"
      },
      "execution_count": null,
      "outputs": [
        {
          "output_type": "stream",
          "name": "stdout",
          "text": [
            "First Even no found: 22\n"
          ]
        }
      ]
    },
    {
      "cell_type": "code",
      "source": [
        "##4 Keep adding number onwards until total exceeds 25 print last sum and digit\n",
        "\n",
        "A=[7,5,7,3,9,5,1,4,2,8,1]\n",
        "total=0\n",
        "\n",
        "for a in A:\n",
        "  total=total+a\n",
        "  if total>25:\n",
        "    print(\"Total sum:\",total)\n",
        "    print(\"Last number added:\",a)\n",
        "    break"
      ],
      "metadata": {
        "colab": {
          "base_uri": "https://localhost:8080/"
        },
        "id": "cXbfhSb7qRSQ",
        "outputId": "8c9fb6e0-d1ae-400f-bc0d-66509fd464e0"
      },
      "execution_count": null,
      "outputs": [
        {
          "output_type": "stream",
          "name": "stdout",
          "text": [
            "Total sum: 31\n",
            "Last number added: 9\n"
          ]
        }
      ]
    },
    {
      "cell_type": "code",
      "source": [
        "#5 Keep asking the user to guess the password until they guess admin123 use while and break\n",
        "\n",
        "while True:\n",
        "  guessed_password = input(\"Enter the password:\")\n",
        "  if guessed_password==\"admine123\":\n",
        "    print(\"Password is correct\")\n",
        "    break\n",
        "  else:\n",
        "    print(\"Wrong password \")"
      ],
      "metadata": {
        "colab": {
          "base_uri": "https://localhost:8080/"
        },
        "id": "epUlpzkezHhZ",
        "outputId": "976b3544-d779-4e92-e742-ae986dc7fd3c"
      },
      "execution_count": null,
      "outputs": [
        {
          "output_type": "stream",
          "name": "stdout",
          "text": [
            "Enter the password:Harsh\n",
            "Wrong password \n",
            "Enter the password:admine123\n",
            "Password is correct\n"
          ]
        }
      ]
    },
    {
      "cell_type": "code",
      "source": [
        "##6 Give a number print each digit until a zero is found\n",
        "\n",
        "number= input(\"Enter the number:\")\n",
        "for digit in number:\n",
        "  if digit==\"0\":\n",
        "    break\n",
        "  print(digit)"
      ],
      "metadata": {
        "id": "5142QmD43C2T",
        "colab": {
          "base_uri": "https://localhost:8080/"
        },
        "outputId": "225e3e4b-1c2f-4a59-eb3b-184fff910e19"
      },
      "execution_count": null,
      "outputs": [
        {
          "output_type": "stream",
          "name": "stdout",
          "text": [
            "Enter the number:4\n",
            "4\n"
          ]
        }
      ]
    },
    {
      "cell_type": "code",
      "source": [
        "##7 To print multiple of 7\n",
        "\n",
        "for i in range (1,11):\n",
        "  print(f\"7×{i}={7*i}\")"
      ],
      "metadata": {
        "colab": {
          "base_uri": "https://localhost:8080/"
        },
        "id": "aX1TLXp_8ZVL",
        "outputId": "05fc99ac-bf94-4141-af53-b071322a6af6"
      },
      "execution_count": null,
      "outputs": [
        {
          "output_type": "stream",
          "name": "stdout",
          "text": [
            "7×1=7\n",
            "7×2=14\n",
            "7×3=21\n",
            "7×4=28\n",
            "7×5=35\n",
            "7×6=42\n",
            "7×7=49\n",
            "7×8=56\n",
            "7×9=63\n",
            "7×10=70\n"
          ]
        }
      ]
    },
    {
      "cell_type": "markdown",
      "source": [
        "Assignment 3"
      ],
      "metadata": {
        "id": "zcnfF5-a-N5W"
      }
    },
    {
      "cell_type": "code",
      "source": [
        "#1 Take a sentence and reverse the order of its words. Example: \"I love python\" ➡️ \"Python love I\".\n",
        "\n",
        "x=input(\"Enter the sentences:\")\n",
        "list1=x.split()\n",
        "list2=list1[::-1]\n",
        "x=' '.join(list2)\n",
        "\n",
        "print(\"Reversed sentence:\",x)"
      ],
      "metadata": {
        "colab": {
          "base_uri": "https://localhost:8080/"
        },
        "id": "m1OsL3ED-RBK",
        "outputId": "240d4289-61cd-4091-8098-86baf254ed4f"
      },
      "execution_count": null,
      "outputs": [
        {
          "output_type": "stream",
          "name": "stdout",
          "text": [
            "Enter the sentences:I love python \n",
            "Reversed sentence: python love I\n"
          ]
        }
      ]
    },
    {
      "cell_type": "code",
      "source": [
        "#2  Give a sting of consonant (non-vowels,ignoring case). Example \"Hello World\"➡️ 7(H,L,L,W,R,L,D).\n",
        "\n",
        "x=input(\"Enter a string:\")\n",
        "vowels='aeiouAEIOU'\n",
        "consonents=[i for i in x if i.isalpha() and i not in vowels ]\n",
        "count=len(consonents)\n",
        "print(f\"{count}({','.join(consonents)})\")"
      ],
      "metadata": {
        "colab": {
          "base_uri": "https://localhost:8080/"
        },
        "id": "PRmNrDSZAnlC",
        "outputId": "ce34a3c1-ee15-4106-eef1-7f18333b23b5"
      },
      "execution_count": null,
      "outputs": [
        {
          "output_type": "stream",
          "name": "stdout",
          "text": [
            "Enter a string:Hi my name is Harsh\n",
            "10(H,m,y,n,m,s,H,r,s,h)\n"
          ]
        }
      ]
    },
    {
      "cell_type": "code",
      "source": [
        "# 3 Check if two strings are anagrams(same character, same frequency , ignoring case). Example:\"Listen\",\"Silent\",-\"Anagram\",\"Hello\" \"World\"-\"Not Anagram \"\n",
        "\n",
        "x=input(\"Enter first string:\")\n",
        "y=input(\"Enter second string:\")\n",
        "\n",
        "s1=x.replace(\" \",\"\").upper()\n",
        "s2=y.replace(\" \",\"\").upper()\n",
        "\n",
        "if sorted(s1)==sorted(s2):\n",
        "  print(\"Anagarm\")\n",
        "else:\n",
        "  print(\"Not Anagram \")"
      ],
      "metadata": {
        "id": "5Vf3-5K-D8xg",
        "colab": {
          "base_uri": "https://localhost:8080/"
        },
        "outputId": "dc1e6e0a-5abb-4fd8-8608-f81a628d8f8f"
      },
      "execution_count": null,
      "outputs": [
        {
          "output_type": "stream",
          "name": "stdout",
          "text": [
            "Enter first string:Dog\n",
            "Enter second string:God\n",
            "Anagarm\n"
          ]
        }
      ]
    },
    {
      "cell_type": "code",
      "source": [
        "#4 Find the first character in a string that appear only once (case sensitive) . Exapmple \"Swiss\"-\"w\" \"Programming\"-\"r\".\n",
        "\n",
        "x=input(\"Enter a string:\")\n",
        "\n",
        "s1=x.replace(\" \",\"\").upper()\n",
        "\n",
        "for i in s1:\n",
        "  if s1.count(i)==1:\n",
        "    print(i)\n",
        "    break\n",
        "else:\n",
        "  print(\"None\")"
      ],
      "metadata": {
        "colab": {
          "base_uri": "https://localhost:8080/"
        },
        "id": "RGrD1mKjVyDs",
        "outputId": "c6597258-788c-49ce-e9aa-c5f4733509ff"
      },
      "execution_count": null,
      "outputs": [
        {
          "output_type": "stream",
          "name": "stdout",
          "text": [
            "Enter a string:Harsh\n",
            "A\n"
          ]
        }
      ]
    },
    {
      "cell_type": "code",
      "source": [
        "# 5. Compress a string by replacing repeated characters with the character and count. Example: \"aaabbcc\" → \"a3b2c2\", If compressed string isn't shorter return orignal.\n",
        "\n",
        "x = input(\"Enter a string: \")\n",
        "\n",
        "if not x:\n",
        "  print(\"\")\n",
        "else:\n",
        "  compress =\"\"\n",
        "  count = 1\n",
        "  for i in range(1,len(x)):\n",
        "      if x[i]==x[i-1]:\n",
        "          count +=1\n",
        "      else:\n",
        "          compress += x[i-1] + str(count)\n",
        "          count = 1\n",
        "  compress += x[-1] + str(count)\n",
        "\n",
        "  if len(compress) < len(x):\n",
        "    print(\"compressed string:\", compress)\n",
        "  else:\n",
        "    print(\"no need to compress:\",x)"
      ],
      "metadata": {
        "id": "JKz5XUI6WhBS",
        "colab": {
          "base_uri": "https://localhost:8080/"
        },
        "outputId": "9c8f0a39-0b10-48cc-a309-e2a6de509937"
      },
      "execution_count": null,
      "outputs": [
        {
          "output_type": "stream",
          "name": "stdout",
          "text": [
            "Enter a string: aaaabbbbbbcccc\n",
            "compressed string: a4b6c4\n"
          ]
        }
      ]
    },
    {
      "cell_type": "code",
      "source": [
        "#6 Find yhe longest substring in a string that is a palindrome(case sensitive). Example:\"babad\" - \"bab\"(or\"aba\"), \"cbbd\"- \"bb\".\n",
        "\n",
        "\n",
        "s=input(\"Enter a string: \")\n",
        "x=s.replace(\" \",\"\").upper()\n",
        "n=len(x)\n",
        "\n",
        "longest=\"\"\n",
        "\n",
        "for i in range(n):\n",
        "  for j in range(1,n):\n",
        "      substr=x[i:j+1]\n",
        "      if substr == substr[::-1]:\n",
        "        if len(substr) > len(longest):\n",
        "           longest = substr\n",
        "print(\"Longest palindrome: \",longest)"
      ],
      "metadata": {
        "colab": {
          "base_uri": "https://localhost:8080/"
        },
        "id": "AUZ4QgGXuU5J",
        "outputId": "7d724378-3e05-4f81-aec3-fead9866b82b"
      },
      "execution_count": null,
      "outputs": [
        {
          "output_type": "stream",
          "name": "stdout",
          "text": [
            "Enter a string: hhrrdd\n",
            "Longest palindrome:  HH\n"
          ]
        }
      ]
    },
    {
      "cell_type": "code",
      "source": [
        "# 7. Gven a string containing only '(',').','{','}','[',']', check if the sequence is valid (properly nested and closed). Example: \"[{()}]\" → \"Valid\", \"(]\" → \"Invalid\".\n",
        "\n",
        "x=input(\"Enter a string: \")\n",
        "s=[]\n",
        "dict={')':'(', ']':'[','}':'{' }\n",
        "valid=True\n",
        "\n",
        "for i in x:\n",
        "  if i in '([{':\n",
        "      s.append(i)\n",
        "  elif i in ')]}':\n",
        "    if not s or s[-1] != dict[i]:\n",
        "      valid= False\n",
        "      break\n",
        "    s.pop()\n",
        "\n",
        "if s:\n",
        "  valid =False\n",
        "\n",
        "print(\"Valid\" if valid else \"Invalid\")"
      ],
      "metadata": {
        "colab": {
          "base_uri": "https://localhost:8080/"
        },
        "id": "-iJ42xEswn3c",
        "outputId": "28f0a42b-c2f6-41c3-9ab9-aa48d9d2397c"
      },
      "execution_count": null,
      "outputs": [
        {
          "output_type": "stream",
          "name": "stdout",
          "text": [
            "Enter a string: Harsh\n",
            "Valid\n"
          ]
        }
      ]
    },
    {
      "cell_type": "code",
      "source": [
        "# 8. Given a start word, end word, and a list of valid words, find the mininmum number of steps to transform the word to the end word\n",
        "#by changing one letter at a time, where each intermediate word must be in the list. All words are same length, lowercase.\n",
        "# Example: start\"hot\", end=\"cog\", wordlist=[\"hot\",\"dot\",\"dog\",log\",\"lot\",\"cog\"] → 5(hit → hot → dot → dog → cog), Return 0 if impossible.\n",
        "\n",
        "from collections import deque\n",
        "start = \"hit\"\n",
        "end = \"cog\"\n",
        "wordList = [\"hot\", \"dot\", \"dog\", \"lot\", \"log\", \"cog\"]\n",
        "wordSet = set(wordList)\n",
        "queue= deque([(start, 1)])\n",
        "while queue:\n",
        "  word, steps = queue.popleft()\n",
        "  if word == end:\n",
        "         print(steps)\n",
        "         break\n",
        "  for i in range(len(word)):\n",
        "        for c in 'abcdefghijklmnopqrstuvwxyz':\n",
        "            next_word = word[:i] + c + word[i+1:]\n",
        "            if next_word in wordSet:\n",
        "               wordSet.remove(next_word)\n",
        "               queue.append((next_word, steps + 1))\n",
        "else:\n",
        "  print(0)"
      ],
      "metadata": {
        "colab": {
          "base_uri": "https://localhost:8080/"
        },
        "id": "1unse-5ZyMVo",
        "outputId": "0cc844e9-85d8-47d5-b534-6d5f58440690"
      },
      "execution_count": null,
      "outputs": [
        {
          "output_type": "stream",
          "name": "stdout",
          "text": [
            "5\n"
          ]
        }
      ]
    },
    {
      "cell_type": "markdown",
      "source": [
        "Assignment 4"
      ],
      "metadata": {
        "id": "-uEjQBYhzh1k"
      }
    },
    {
      "cell_type": "code",
      "source": [
        "#1 Create a dictionary of 5 students with their names as keys and marks as values. Print all the keys and values.\n",
        "my_dict= {\"Raman\":78,\"Harsh\":75,\"Aman\": 67,\"Simran\":84,\"Gurkirat\":79}\n",
        "print(my_dict)"
      ],
      "metadata": {
        "colab": {
          "base_uri": "https://localhost:8080/"
        },
        "id": "xM_R9mT-zqKx",
        "outputId": "05eee606-0739-47ed-99d7-922d44b5dd83"
      },
      "execution_count": null,
      "outputs": [
        {
          "output_type": "stream",
          "name": "stdout",
          "text": [
            "{'Raman': 78, 'Harsh': 75, 'Aman': 67, 'Simran': 84, 'Gurkirat': 79}\n"
          ]
        }
      ]
    },
    {
      "cell_type": "code",
      "source": [
        "#4 Merge two dictionaries and print the merged dictionary.\n",
        "dict1= {'a':1,'b':6,'c':10,'d':4}\n",
        "dict2=  {'e':11,'f':16,'g':5,'h':9}\n",
        "dict3= dict1|dict2\n",
        "print(dict3)"
      ],
      "metadata": {
        "colab": {
          "base_uri": "https://localhost:8080/"
        },
        "id": "pEvmmqBo0wDB",
        "outputId": "b2a1682d-edf2-4a69-b5d7-18b56711b016"
      },
      "execution_count": null,
      "outputs": [
        {
          "output_type": "stream",
          "name": "stdout",
          "text": [
            "{'a': 1, 'b': 6, 'c': 10, 'd': 4, 'e': 11, 'f': 16, 'g': 5, 'h': 9}\n"
          ]
        }
      ]
    },
    {
      "cell_type": "code",
      "source": [
        "#5 Create a dictionary where the keys are numbers between 1 and 10, and the values are their squares\n",
        "sq={num:num**2 for num in range(1,11)}\n",
        "print(sq)"
      ],
      "metadata": {
        "colab": {
          "base_uri": "https://localhost:8080/"
        },
        "id": "vVAoS1DT0yc5",
        "outputId": "2a92ba04-f94e-4549-bf62-18ca180f77aa"
      },
      "execution_count": null,
      "outputs": [
        {
          "output_type": "stream",
          "name": "stdout",
          "text": [
            "{1: 1, 2: 4, 3: 9, 4: 16, 5: 25, 6: 36, 7: 49, 8: 64, 9: 81, 10: 100}\n"
          ]
        }
      ]
    },
    {
      "cell_type": "code",
      "source": [
        "#6 Write a program that inverts a dictionary (i.e., swaps keys and values). Assume all values are unique.\n",
        "dict={'a':1,'b':6,'c':10,'d':4,'e':9}\n",
        "inverted_dict={value: keys for keys, value in dict.items() }\n",
        "print(inverted_dict)"
      ],
      "metadata": {
        "colab": {
          "base_uri": "https://localhost:8080/"
        },
        "id": "3VF4f0rW1KNx",
        "outputId": "1bca8a0d-1c85-4446-cd80-3b0bfb0968f2"
      },
      "execution_count": null,
      "outputs": [
        {
          "output_type": "stream",
          "name": "stdout",
          "text": [
            "{1: 'a', 6: 'b', 10: 'c', 4: 'd', 9: 'e'}\n"
          ]
        }
      ]
    },
    {
      "cell_type": "code",
      "source": [
        "string= \"hello world\"\n",
        "freq={}\n",
        "\n",
        "for char in string:\n",
        "    if char!= \" \":\n",
        "        freq[char]= freq.get(char,0)+1\n",
        "print(freq)"
      ],
      "metadata": {
        "colab": {
          "base_uri": "https://localhost:8080/"
        },
        "id": "sjm0KFcY14lV",
        "outputId": "5b93a1d7-d976-4db4-e9a0-0a72e35b721c"
      },
      "execution_count": null,
      "outputs": [
        {
          "output_type": "stream",
          "name": "stdout",
          "text": [
            "{'h': 1, 'e': 1, 'l': 3, 'o': 2, 'w': 1, 'r': 1, 'd': 1}\n"
          ]
        }
      ]
    },
    {
      "cell_type": "code",
      "source": [
        "#7. Given a nested dictionary of students and their subject-wise marks, calculate and print the average marks for each student.\n",
        "students={ \"student1\":{'phy':78, 'chem':65,'maths':89,'english': 85},\n",
        "         \"student2\":{'phy':79, 'chem':67,'maths':76,'english': 66},\n",
        "         \"student3\":{'phy':74, 'chem':55,'maths':84,'english': 98},\n",
        "         \"student4\":{'phy':81, 'chem':45,'maths':88,'english': 75},\n",
        "         \"student5\":{'phy':38, 'chem':35,'maths':69,'english': 95},\n",
        "}\n",
        "\n",
        "for name, subject in students.items():\n",
        "    avg= sum(subject.values())/len(subject)\n",
        "    print(name ,\" average is\",avg)\n",
        "\n"
      ],
      "metadata": {
        "colab": {
          "base_uri": "https://localhost:8080/"
        },
        "id": "913fdwwq32Ad",
        "outputId": "dcc53cd0-5084-432f-dc5c-94d87f37a2ce"
      },
      "execution_count": null,
      "outputs": [
        {
          "output_type": "stream",
          "name": "stdout",
          "text": [
            "student1  average is 79.25\n",
            "student2  average is 72.0\n",
            "student3  average is 77.75\n",
            "student4  average is 72.25\n",
            "student5  average is 59.25\n"
          ]
        }
      ]
    },
    {
      "cell_type": "code",
      "source": [
        "#8. Write a program to group words by their length from a list using a dictionary.\n",
        "list=['red', 'blue','black','pink','green']\n",
        "group={}\n",
        "for word in list:\n",
        "    l=len(word)\n",
        "    group.setdefault(l,[]).append(word)\n",
        "\n",
        "print(group)\n"
      ],
      "metadata": {
        "colab": {
          "base_uri": "https://localhost:8080/"
        },
        "id": "q42fyox_40xp",
        "outputId": "1dc69120-e624-40fc-bacc-99fd1414fe5b"
      },
      "execution_count": null,
      "outputs": [
        {
          "output_type": "stream",
          "name": "stdout",
          "text": [
            "{3: ['red'], 4: ['blue', 'pink'], 5: ['black', 'green']}\n"
          ]
        }
      ]
    },
    {
      "cell_type": "code",
      "source": [
        "#10. Create a program that takes a list of tuples (name, score) and builds a dictionary\n",
        "#where each name is a key, and the value is a list of all their scores. Then calculate and print\n",
        "#each person's average score.\n",
        "list= [('Harsh',78),('Raman',88),('Komal',55),('Simran',90),('Harsh',74),('Raman',98),('Komal',59),('Simran',80)]\n",
        "score_dict={}\n",
        "for name,score in list:\n",
        "    if name in  score_dict:\n",
        "        score_dict[name].append(score)\n",
        "    else:\n",
        "        score_dict[name]=[score]\n",
        "print(score_dict)\n",
        "for name, score in score_dict.items():\n",
        "    avg= sum(score)/len(score)\n",
        "    print(name,\"average is\",avg)\n",
        "\n",
        "\n"
      ],
      "metadata": {
        "colab": {
          "base_uri": "https://localhost:8080/"
        },
        "id": "tRn-FoSl5IxC",
        "outputId": "2771f79d-7901-405a-9fa7-93d0e96b276f"
      },
      "execution_count": null,
      "outputs": [
        {
          "output_type": "stream",
          "name": "stdout",
          "text": [
            "{'Harsh': [78, 74], 'Raman': [88, 98], 'Komal': [55, 59], 'Simran': [90, 80]}\n",
            "Harsh average is 76.0\n",
            "Raman average is 93.0\n",
            "Komal average is 57.0\n",
            "Simran average is 85.0\n"
          ]
        }
      ]
    },
    {
      "cell_type": "markdown",
      "source": [
        "Assignment 5"
      ],
      "metadata": {
        "id": "wz0OTHId6JrU"
      }
    },
    {
      "cell_type": "code",
      "source": [
        "#WAP to make a pyramid.\n",
        "def pyramid(n, current=1):\n",
        "    if current > n:\n",
        "            return\n",
        "    spaces = ' ' * (n - current)\n",
        "    stars = '*' * (2 * current - 1)\n",
        "    print(spaces + stars)\n",
        "    pyramid(n, current + 1)\n",
        "\n",
        "n=int(input(\"Enter no. of lines: \"))\n",
        "pyramid(n)"
      ],
      "metadata": {
        "colab": {
          "base_uri": "https://localhost:8080/"
        },
        "id": "egG9lhyl6Mu9",
        "outputId": "e662157d-e90f-461e-8db7-b705ee67b6f5"
      },
      "execution_count": null,
      "outputs": [
        {
          "output_type": "stream",
          "name": "stdout",
          "text": [
            "Enter no. of lines: 8\n",
            "       *\n",
            "      ***\n",
            "     *****\n",
            "    *******\n",
            "   *********\n",
            "  ***********\n",
            " *************\n",
            "***************\n"
          ]
        }
      ]
    },
    {
      "cell_type": "code",
      "source": [
        "#Generate a pattern like:\n",
        "'''\n",
        "*\n",
        "* *\n",
        "* * *\n",
        "* * * *\n",
        "'''\n",
        "def pattern(n, current=1):\n",
        "    if(current>n):\n",
        "     return\n",
        "    print(\"*\"* current)\n",
        "    pattern(n, current+1)\n",
        "n= int(input(\"Enter No.:\"))\n",
        "print(pattern(n))"
      ],
      "metadata": {
        "colab": {
          "base_uri": "https://localhost:8080/"
        },
        "id": "qR7sdAS_7Yys",
        "outputId": "19b3cee9-220c-425f-c317-7f9df9ca8537"
      },
      "execution_count": null,
      "outputs": [
        {
          "output_type": "stream",
          "name": "stdout",
          "text": [
            "Enter No.:7\n",
            "*\n",
            "**\n",
            "***\n",
            "****\n",
            "*****\n",
            "******\n",
            "*******\n",
            "None\n"
          ]
        }
      ]
    },
    {
      "cell_type": "code",
      "source": [
        "#Draw a sqaure pattern like star.\n",
        "def square_pattern(n):\n",
        "    for i in range(n):\n",
        "        print(\"* \" * n)\n",
        "\n",
        "size = int(input(\"Enter the size of the square: \"))\n",
        "square_pattern(size)"
      ],
      "metadata": {
        "colab": {
          "base_uri": "https://localhost:8080/"
        },
        "id": "vApUOswQ8Dak",
        "outputId": "5d8e9b71-8d1f-4cc9-b8b3-8072c0d4deef"
      },
      "execution_count": null,
      "outputs": [
        {
          "output_type": "stream",
          "name": "stdout",
          "text": [
            "Enter the size of the square: 9\n",
            "* * * * * * * * * \n",
            "* * * * * * * * * \n",
            "* * * * * * * * * \n",
            "* * * * * * * * * \n",
            "* * * * * * * * * \n",
            "* * * * * * * * * \n",
            "* * * * * * * * * \n",
            "* * * * * * * * * \n",
            "* * * * * * * * * \n"
          ]
        }
      ]
    },
    {
      "cell_type": "code",
      "source": [
        "#Draw a rectangle pattern like star.\n",
        "#area of rectangle = lXb\n",
        "def rectangle_pattern(l,b):\n",
        "    for i in range(b):\n",
        "        print(\"* \" * l)\n",
        "l= int(input(\"Enter the length of rectangle: \"))\n",
        "b= int(input(\"Enter the breadth of rectangle: \"))\n",
        "print(rectangle_pattern(l,b))"
      ],
      "metadata": {
        "colab": {
          "base_uri": "https://localhost:8080/"
        },
        "id": "5Ja_Z6hQALQk",
        "outputId": "324dbe76-99b5-41b7-9628-b69a9d3c8cc9"
      },
      "execution_count": null,
      "outputs": [
        {
          "output_type": "stream",
          "name": "stdout",
          "text": [
            "Enter the length of rectangle: 3\n",
            "Enter the breadth of rectangle: 5\n",
            "* * * \n",
            "* * * \n",
            "* * * \n",
            "* * * \n",
            "* * * \n",
            "None\n"
          ]
        }
      ]
    },
    {
      "cell_type": "markdown",
      "source": [
        "Assignment 6"
      ],
      "metadata": {
        "id": "Uls-pZpkAvDx"
      }
    },
    {
      "cell_type": "code",
      "source": [
        "#1.  Write a Python program to create a tuple with different data types and print its type.\n",
        "tuple=('hello', 2, 3.14, True)\n",
        "print(tuple)\n",
        "print(\"type:\", type(tuple))"
      ],
      "metadata": {
        "colab": {
          "base_uri": "https://localhost:8080/"
        },
        "id": "6tzZxV4mAyTW",
        "outputId": "562816b8-51a8-4581-ab3b-5f6ddb4417d3"
      },
      "execution_count": null,
      "outputs": [
        {
          "output_type": "stream",
          "name": "stdout",
          "text": [
            "('hello', 2, 3.14, True)\n",
            "type: <class 'tuple'>\n"
          ]
        }
      ]
    },
    {
      "cell_type": "code",
      "source": [
        "#2. Given a tuple t = (10, 20, 30, 40, 50), write a program to access the second last element.\n",
        "t = (10, 20, 30, 40, 50)\n",
        "second_last= t[-2]\n",
        "print(\"second last elemnt is:\",second_last)"
      ],
      "metadata": {
        "colab": {
          "base_uri": "https://localhost:8080/"
        },
        "id": "1b59UteRBR_G",
        "outputId": "11c295e6-2fd0-4f73-f4d2-e4888469db21"
      },
      "execution_count": null,
      "outputs": [
        {
          "output_type": "stream",
          "name": "stdout",
          "text": [
            "second last elemnt is: 40\n"
          ]
        }
      ]
    },
    {
      "cell_type": "code",
      "source": [
        "# 3. Write a program to count the number of times a given element appears in a tuple.\n",
        "tuple=(2,5,7,8,10,3,5,8,7,12,10,3,8,0)\n",
        "my_set = tuple.count(10)\n",
        "print(my_set)"
      ],
      "metadata": {
        "colab": {
          "base_uri": "https://localhost:8080/"
        },
        "id": "UgHg3KHfBY2f",
        "outputId": "e98f9fbb-a683-4192-c8b9-f05ee6cd31bc"
      },
      "execution_count": null,
      "outputs": [
        {
          "output_type": "stream",
          "name": "stdout",
          "text": [
            "2\n"
          ]
        }
      ]
    },
    {
      "cell_type": "code",
      "source": [
        "#4. Write a program to convert a tuple of strings into a single string. Example: ('Python', 'is', 'fun') --> 'Python is fun'\n",
        "tuple=('Python', 'is', 'fun')\n",
        "single_string= ' '.join(tuple)\n",
        "print (single_string)"
      ],
      "metadata": {
        "colab": {
          "base_uri": "https://localhost:8080/"
        },
        "id": "ryc3-oLtBi6S",
        "outputId": "b2e58a62-857e-4d47-9093-1cbc663f08e9"
      },
      "execution_count": null,
      "outputs": [
        {
          "output_type": "stream",
          "name": "stdout",
          "text": [
            "Python is fun\n"
          ]
        }
      ]
    },
    {
      "cell_type": "code",
      "source": [
        "# 6. Write a Python program to create two sets and perform union, intersection, and difference operations.\n",
        "set1={'apple', 'mango','banana','chiku', 'papaya','kiwi','melon'}\n",
        "set2={'muskmelon', 'strawberry','kiwi','melon'}\n",
        "\n",
        "union = set1.union(set2)\n",
        "print(\"union:\", union)\n",
        "intersection = set1.intersection(set2)\n",
        "print(\"intersection:\", intersection)\n",
        "difference = set1.difference(set2)\n",
        "print(\"difference:\", difference)"
      ],
      "metadata": {
        "colab": {
          "base_uri": "https://localhost:8080/"
        },
        "id": "Nyx6rlJQB21U",
        "outputId": "c38c54df-6a43-4f05-aa9b-5fc87469b9af"
      },
      "execution_count": null,
      "outputs": [
        {
          "output_type": "stream",
          "name": "stdout",
          "text": [
            "union: {'mango', 'kiwi', 'apple', 'muskmelon', 'chiku', 'strawberry', 'papaya', 'melon', 'banana'}\n",
            "intersection: {'melon', 'kiwi'}\n",
            "difference: {'mango', 'apple', 'chiku', 'papaya', 'banana'}\n"
          ]
        }
      ]
    },
    {
      "cell_type": "code",
      "source": [
        "#7. Write a program to check if a given element is present in a set or not\n",
        "set ={'apple', 'mango','banana','chiku', 'papaya','kiwi','melon'}\n",
        "element = input(\"Enter an element to check: \")\n",
        "\n",
        "if element in set:\n",
        "    print(f\"{element} is \\'present\\' in the set.\")\n",
        "else:\n",
        "    print(f\"{element} is \\'NOT present\\' in the set.\")"
      ],
      "metadata": {
        "colab": {
          "base_uri": "https://localhost:8080/"
        },
        "id": "OE_I6IA_B_oA",
        "outputId": "73c6f898-fe53-4be3-8f06-32ad57bba3c4"
      },
      "execution_count": null,
      "outputs": [
        {
          "output_type": "stream",
          "name": "stdout",
          "text": [
            "Enter an element to check: Guava\n",
            "Guava is 'NOT present' in the set.\n"
          ]
        }
      ]
    },
    {
      "cell_type": "code",
      "source": [
        "#8. Write a program to remove duplicate elements from a list using a set.\n",
        "\n",
        "list = [10, 20, 10, 30, 40, 20, 60,50,40,20]\n",
        "unique_list = set(list)\n",
        "\n",
        "print(\"Original List:\", list)\n",
        "print(\"List after removing duplicates:\", unique_list)"
      ],
      "metadata": {
        "colab": {
          "base_uri": "https://localhost:8080/"
        },
        "id": "HtBtG_0mC2_m",
        "outputId": "4e260e4b-5108-4fdf-faeb-1787bd6e3a5d"
      },
      "execution_count": null,
      "outputs": [
        {
          "output_type": "stream",
          "name": "stdout",
          "text": [
            "Original List: [10, 20, 10, 30, 40, 20, 60, 50, 40, 20]\n",
            "List after removing duplicates: {40, 10, 50, 20, 60, 30}\n"
          ]
        }
      ]
    },
    {
      "cell_type": "code",
      "source": [
        "#9. Write a Python program to find the symmetric difference between two sets.\n",
        "set1={'apple', 'mango','banana','chiku', 'papaya','kiwi','melon'}\n",
        "set2={'muskmelon', 'strawberry','kiwi','melon'}\n",
        "symmetric_diff = set1.symmetric_difference(set2)\n",
        "print(symmetric_diff)"
      ],
      "metadata": {
        "colab": {
          "base_uri": "https://localhost:8080/"
        },
        "id": "CWinhDJhEPdE",
        "outputId": "887937a5-1962-45f8-aaee-7874aa962310"
      },
      "execution_count": null,
      "outputs": [
        {
          "output_type": "stream",
          "name": "stdout",
          "text": [
            "{'mango', 'apple', 'muskmelon', 'chiku', 'strawberry', 'papaya', 'banana'}\n"
          ]
        }
      ]
    },
    {
      "cell_type": "code",
      "source": [
        "#10. Given a list of numbers, write a Python program to find all unique elements using sets.\n",
        "list=[2,1,5,4,6,3,2,4,8,6,9,2]\n",
        "unique_elements=set(list)\n",
        "print(\"Original List:\", list)\n",
        "print(\"Unique Elements:\", unique_elements)"
      ],
      "metadata": {
        "colab": {
          "base_uri": "https://localhost:8080/"
        },
        "id": "dvEAW47tEkim",
        "outputId": "16c7f4c0-ffe6-438d-821e-475f4eb1fdb4"
      },
      "execution_count": null,
      "outputs": [
        {
          "output_type": "stream",
          "name": "stdout",
          "text": [
            "Original List: [2, 1, 5, 4, 6, 3, 2, 4, 8, 6, 9, 2]\n",
            "Unique Elements: {1, 2, 3, 4, 5, 6, 8, 9}\n"
          ]
        }
      ]
    },
    {
      "cell_type": "markdown",
      "source": [
        "Assignment 7"
      ],
      "metadata": {
        "id": "TWyHcGB7VcTf"
      }
    },
    {
      "cell_type": "code",
      "source": [
        "#1. Write a function to find the factorial of a number using recursion.\n",
        "def fact(n):\n",
        "   if n < 0:\n",
        "      return \"Factorial is not defined for negative numbers\"\n",
        "   elif n == 0 or n == 1:\n",
        "      return 1\n",
        "   else:\n",
        "      result = 1\n",
        "      for i in range(2, n + 1):\n",
        "          result *= i\n",
        "      return result\n",
        "print(fact(9))"
      ],
      "metadata": {
        "id": "ydKx-2K3FyA-",
        "colab": {
          "base_uri": "https://localhost:8080/"
        },
        "outputId": "b9adadab-6f56-4385-f53d-68f542e045ec"
      },
      "execution_count": null,
      "outputs": [
        {
          "output_type": "stream",
          "name": "stdout",
          "text": [
            "362880\n"
          ]
        }
      ]
    },
    {
      "cell_type": "code",
      "source": [
        "#2. Write a function that checks whether a number is prime or not.\n",
        "def is_prime(n):\n",
        "   if n <= 1:\n",
        "      return False\n",
        "   for i in range(2, int(n**0.5) + 1):\n",
        "       if n % i == 0:\n",
        "           return False\n",
        "   return True\n",
        "print(is_prime(7))"
      ],
      "metadata": {
        "colab": {
          "base_uri": "https://localhost:8080/"
        },
        "id": "QhEsnZpuWQw4",
        "outputId": "b1171903-c3cd-46b5-d3d9-49a76515dabc"
      },
      "execution_count": null,
      "outputs": [
        {
          "output_type": "stream",
          "name": "stdout",
          "text": [
            "True\n"
          ]
        }
      ]
    },
    {
      "cell_type": "code",
      "source": [
        "#3. Create a function that takes a string as input and returns the number of vowels in it.\n",
        "def count_vowels(s):\n",
        "    vowels = \"aeiouAEIOU\"\n",
        "    count = 0\n",
        "    for char in s:\n",
        "        if char in vowels:\n",
        "           count += 1\n",
        "    return count\n",
        "print(count_vowels(\"Hello Myself Harshpreet Kaur\"))"
      ],
      "metadata": {
        "colab": {
          "base_uri": "https://localhost:8080/"
        },
        "id": "JBdiTSxBW-oK",
        "outputId": "00d9a2ff-2685-450c-972e-4dac32e38c75"
      },
      "execution_count": null,
      "outputs": [
        {
          "output_type": "stream",
          "name": "stdout",
          "text": [
            "8\n"
          ]
        }
      ]
    },
    {
      "cell_type": "code",
      "source": [
        "# 4. Write a function that accepts a list of numbers and returns the maximum and minimum values.\n",
        "def find_max_min(numbers):\n",
        "   if not numbers:\n",
        "      return None\n",
        "   max_num = min_num = numbers[0]\n",
        "   for num in numbers:\n",
        "       if num > max_num:\n",
        "          max_num = num\n",
        "       if num < min_num:\n",
        "          min_num = num\n",
        "   return max_num, min_num\n",
        "print(find_max_min([3, 1, 4, 1, 5, 9, 2, 6]))"
      ],
      "metadata": {
        "colab": {
          "base_uri": "https://localhost:8080/"
        },
        "id": "Vr71USu0XwDl",
        "outputId": "925ef25e-267a-4ae5-91fc-4a2ee81b2985"
      },
      "execution_count": null,
      "outputs": [
        {
          "output_type": "stream",
          "name": "stdout",
          "text": [
            "(9, 1)\n"
          ]
        }
      ]
    },
    {
      "cell_type": "code",
      "source": [
        "#5. Write a Python function to calculate the nth Fibonacci number using recursion.\n",
        "def fibonacci(n):\n",
        "   if n <= 0:\n",
        "      return []\n",
        "   elif n == 1:\n",
        "      return [0]\n",
        "   elif n == 2:\n",
        "      return [0, 1]\n",
        "\n",
        "   fib_series = [0, 1]\n",
        "   for i in range(2, n):\n",
        "       next_value = fib_series[i - 1] + fib_series[i - 2]\n",
        "       fib_series.append(next_value)\n",
        "   return fib_series\n",
        "n= int(input(\"Enter no: \"))\n",
        "print(fibonacci(n))"
      ],
      "metadata": {
        "colab": {
          "base_uri": "https://localhost:8080/"
        },
        "id": "XkR_lhIkYnjm",
        "outputId": "be26f56d-dcc8-4d89-b913-36a2bd0f6e10"
      },
      "execution_count": null,
      "outputs": [
        {
          "output_type": "stream",
          "name": "stdout",
          "text": [
            "Enter no: 7\n",
            "[0, 1, 1, 2, 3, 5, 8]\n"
          ]
        }
      ]
    },
    {
      "cell_type": "code",
      "source": [
        "import math\n",
        "def find_gcd(a, b):\n",
        "    return math.gcd(a, b)\n",
        "num1 = int(input(\"Enter first number: \"))\n",
        "num2 = int(input(\"Enter second number: \"))\n",
        "print(\"The GCD is:\", find_gcd(num1, num2))"
      ],
      "metadata": {
        "colab": {
          "base_uri": "https://localhost:8080/"
        },
        "id": "jLs_oHHHZXIP",
        "outputId": "7f18d720-9692-4085-bed9-19ccd50a642e"
      },
      "execution_count": null,
      "outputs": [
        {
          "output_type": "stream",
          "name": "stdout",
          "text": [
            "Enter first number: 43\n",
            "Enter second number: 31\n",
            "The GCD is: 1\n"
          ]
        }
      ]
    },
    {
      "cell_type": "code",
      "source": [
        "#7. Write a function that takes a list and returns a new list with only unique elements.\n",
        "def unique_elements(lst):\n",
        "    unique_set = set(lst)\n",
        "    return list(unique_set)\n",
        "\n",
        "my_list = [1, 2, 2, 3, 4, 4, 5]\n",
        "print(unique_elements(my_list))\n"
      ],
      "metadata": {
        "colab": {
          "base_uri": "https://localhost:8080/",
          "height": 411
        },
        "id": "AwYU0zUPZ17U",
        "outputId": "fa902161-0a0a-42c6-da8e-21c21a6de0b3"
      },
      "execution_count": null,
      "outputs": [
        {
          "output_type": "error",
          "ename": "TypeError",
          "evalue": "'list' object is not callable",
          "traceback": [
            "\u001b[0;31m---------------------------------------------------------------------------\u001b[0m",
            "\u001b[0;31mTypeError\u001b[0m                                 Traceback (most recent call last)",
            "\u001b[0;32m/tmp/ipython-input-8-550002150.py\u001b[0m in \u001b[0;36m<cell line: 0>\u001b[0;34m()\u001b[0m\n\u001b[1;32m      5\u001b[0m \u001b[0;34m\u001b[0m\u001b[0m\n\u001b[1;32m      6\u001b[0m \u001b[0mmy_list\u001b[0m \u001b[0;34m=\u001b[0m \u001b[0;34m[\u001b[0m\u001b[0;36m1\u001b[0m\u001b[0;34m,\u001b[0m \u001b[0;36m2\u001b[0m\u001b[0;34m,\u001b[0m \u001b[0;36m2\u001b[0m\u001b[0;34m,\u001b[0m \u001b[0;36m3\u001b[0m\u001b[0;34m,\u001b[0m \u001b[0;36m4\u001b[0m\u001b[0;34m,\u001b[0m \u001b[0;36m4\u001b[0m\u001b[0;34m,\u001b[0m \u001b[0;36m5\u001b[0m\u001b[0;34m]\u001b[0m\u001b[0;34m\u001b[0m\u001b[0;34m\u001b[0m\u001b[0m\n\u001b[0;32m----> 7\u001b[0;31m \u001b[0mprint\u001b[0m\u001b[0;34m(\u001b[0m\u001b[0munique_elements\u001b[0m\u001b[0;34m(\u001b[0m\u001b[0mmy_list\u001b[0m\u001b[0;34m)\u001b[0m\u001b[0;34m)\u001b[0m\u001b[0;34m\u001b[0m\u001b[0;34m\u001b[0m\u001b[0m\n\u001b[0m",
            "\u001b[0;32m/tmp/ipython-input-8-550002150.py\u001b[0m in \u001b[0;36munique_elements\u001b[0;34m(lst)\u001b[0m\n\u001b[1;32m      2\u001b[0m \u001b[0;32mdef\u001b[0m \u001b[0munique_elements\u001b[0m\u001b[0;34m(\u001b[0m\u001b[0mlst\u001b[0m\u001b[0;34m)\u001b[0m\u001b[0;34m:\u001b[0m\u001b[0;34m\u001b[0m\u001b[0;34m\u001b[0m\u001b[0m\n\u001b[1;32m      3\u001b[0m     \u001b[0munique_set\u001b[0m \u001b[0;34m=\u001b[0m \u001b[0mset\u001b[0m\u001b[0;34m(\u001b[0m\u001b[0mlst\u001b[0m\u001b[0;34m)\u001b[0m\u001b[0;34m\u001b[0m\u001b[0;34m\u001b[0m\u001b[0m\n\u001b[0;32m----> 4\u001b[0;31m     \u001b[0;32mreturn\u001b[0m \u001b[0mlist\u001b[0m\u001b[0;34m(\u001b[0m\u001b[0munique_set\u001b[0m\u001b[0;34m)\u001b[0m\u001b[0;34m\u001b[0m\u001b[0;34m\u001b[0m\u001b[0m\n\u001b[0m\u001b[1;32m      5\u001b[0m \u001b[0;34m\u001b[0m\u001b[0m\n\u001b[1;32m      6\u001b[0m \u001b[0mmy_list\u001b[0m \u001b[0;34m=\u001b[0m \u001b[0;34m[\u001b[0m\u001b[0;36m1\u001b[0m\u001b[0;34m,\u001b[0m \u001b[0;36m2\u001b[0m\u001b[0;34m,\u001b[0m \u001b[0;36m2\u001b[0m\u001b[0;34m,\u001b[0m \u001b[0;36m3\u001b[0m\u001b[0;34m,\u001b[0m \u001b[0;36m4\u001b[0m\u001b[0;34m,\u001b[0m \u001b[0;36m4\u001b[0m\u001b[0;34m,\u001b[0m \u001b[0;36m5\u001b[0m\u001b[0;34m]\u001b[0m\u001b[0;34m\u001b[0m\u001b[0;34m\u001b[0m\u001b[0m\n",
            "\u001b[0;31mTypeError\u001b[0m: 'list' object is not callable"
          ]
        }
      ]
    },
    {
      "cell_type": "code",
      "source": [
        "#9. Write a function that takes a number and returns True if it is a palindrome, otherwise False.\n",
        "def is_palindrome(n):\n",
        "   str_n = str(n)\n",
        "   return str_n == str_n[::-1]\n",
        "n=int(input(\"Enter No.: \"))\n",
        "print(is_palindrome(n))"
      ],
      "metadata": {
        "colab": {
          "base_uri": "https://localhost:8080/"
        },
        "id": "_wxlg39AaQIB",
        "outputId": "dc4e36fa-3ea6-4cf4-9e42-c175f5517ebc"
      },
      "execution_count": null,
      "outputs": [
        {
          "output_type": "stream",
          "name": "stdout",
          "text": [
            "Enter No.: 65\n",
            "False\n"
          ]
        }
      ]
    },
    {
      "cell_type": "code",
      "source": [
        "# 10. Create a function that takes a temperature in Celsius and returns it in Fahrenheit\n",
        "#formulaa: c/5=(f-32)/9\n",
        "def f_to_c(f):\n",
        "    return 5*(f-32)/9\n",
        "f=int(input(\"Enter tempreature:\"))\n",
        "c=f_to_c(f)\n",
        "print(f\"{round(c,3)}, degree celsisus\")\n",
        "\n",
        "#method 2\n",
        "def celsius_to_fahrenheit(celsius):\n",
        "   return (celsius * 9/5) + 32\n",
        "celsisus= int(input(\"Enter tempreature:\"))\n",
        "print(celsius_to_fahrenheit(celsisus))\n"
      ],
      "metadata": {
        "colab": {
          "base_uri": "https://localhost:8080/"
        },
        "id": "mdY4LQ3Ta0HO",
        "outputId": "b68b7a19-fa93-4f17-c794-e60b76429bb5"
      },
      "execution_count": null,
      "outputs": [
        {
          "output_type": "stream",
          "name": "stdout",
          "text": [
            "Enter tempreature:89\n",
            "31.667, degree celsisus\n",
            "Enter tempreature:98\n",
            "208.4\n"
          ]
        }
      ]
    },
    {
      "cell_type": "markdown",
      "source": [
        "Assignment 8"
      ],
      "metadata": {
        "id": "BXlsGuJ71H2v"
      }
    },
    {
      "cell_type": "code",
      "source": [
        "#1 Write a Python program to create a new text file and write the text 'Hello, File Handling!' to it.\n",
        "\n",
        "with open(\"newfile.txt\",\"w\") as f:\n",
        "  f.write(\"Hello,File Handling!\")\n",
        "print(\"File written successful.\")"
      ],
      "metadata": {
        "colab": {
          "base_uri": "https://localhost:8080/"
        },
        "id": "NE-HppcvHjzf",
        "outputId": "8207ee51-5ea6-4dcd-e0e7-08a5dc74c5ce"
      },
      "execution_count": null,
      "outputs": [
        {
          "output_type": "stream",
          "name": "stdout",
          "text": [
            "File written successful.\n"
          ]
        }
      ]
    },
    {
      "cell_type": "code",
      "source": [
        "# 2. Write a Python program to read the contents of 'example.txt' and display them on the screen\n",
        "\n",
        "from google.colab import files\n",
        "uploaded = files.upload()\n",
        "\n",
        "with open(\"example.txt\",\"r\")as f:\n",
        "content=f.read()\n",
        "print(content)"
      ],
      "metadata": {
        "id": "NboOXawZAwFp"
      },
      "execution_count": null,
      "outputs": []
    },
    {
      "cell_type": "code",
      "source": [
        "#3. Write a Python program to count the number of words in a given text file\n",
        "\n",
        "# Count number of words in example.txt\n",
        "with open(\"example.txt\", \"r\", encoding=\"latin-1\") as f:   # ← adjust encoding if needed\n",
        "    text = f.read()\n",
        "\n",
        "words = text.split()\n",
        "print(\"Number of words:\", len(words))"
      ],
      "metadata": {
        "colab": {
          "base_uri": "https://localhost:8080/"
        },
        "id": "ILjgmM7XKnQX",
        "outputId": "0ea33c86-0f19-42a9-d4f5-fc8b63ea299b"
      },
      "execution_count": null,
      "outputs": [
        {
          "output_type": "stream",
          "name": "stdout",
          "text": [
            "Number of words: 626805\n"
          ]
        }
      ]
    },
    {
      "cell_type": "code",
      "source": [
        "#4. Write a Python program to read a file and print only\n",
        "\n",
        "with open(\"sample.txt\",\"r\") as f:\n",
        "  for line in f:\n",
        "    if line.startswith('A'):\n",
        "      print(line.stip())"
      ],
      "metadata": {
        "id": "-GzwMa_6QhXD"
      },
      "execution_count": null,
      "outputs": []
    },
    {
      "cell_type": "code",
      "source": [
        "# 5.Write a Python program to merge the contents of two files into a third file.\n",
        "\n",
        "with open(\"sample.txt\", \"r\") as f1, open(\"products.txt\", \"r\") as f2:\n",
        "  with open(\"merged.txt\", \"w\")as f3:\n",
        "\n",
        "    f3.write(f1.read())\n",
        "    f3.write(f2.read())\n",
        "\n",
        "print(\"Files merged successfully.\")\n",
        "\n"
      ],
      "metadata": {
        "colab": {
          "base_uri": "https://localhost:8080/"
        },
        "id": "GNd6CIKEUgSH",
        "outputId": "f6c3045f-cd4f-475f-eec2-0785a94e038d"
      },
      "execution_count": null,
      "outputs": [
        {
          "output_type": "stream",
          "name": "stdout",
          "text": [
            "Files merged successfully.\n"
          ]
        }
      ]
    },
    {
      "cell_type": "code",
      "source": [
        "#6 Write a Python program that reads a text file and prints its content in reverse order (last line first).\n",
        "\n",
        "\n",
        "with open(\"sample.txt\", \"r\") as f:\n",
        "  lines=f.readlines()\n",
        "  for line in reversed(lines):\n",
        "    print(line.strip())"
      ],
      "metadata": {
        "colab": {
          "base_uri": "https://localhost:8080/"
        },
        "id": "hyvpNlkJ7vYR",
        "outputId": "0578bb64-e13b-4396-c979-e2cecf99dc37"
      },
      "execution_count": null,
      "outputs": [
        {
          "output_type": "stream",
          "name": "stdout",
          "text": [
            "Eve,32,HR\n",
            "David,28,Engineering\n",
            "Charlie,35,Sales\n",
            "Bob,25,Marketing\n",
            "Harsh,30,Engineering\n",
            "Name,Age,Department\n"
          ]
        }
      ]
    },
    {
      "cell_type": "code",
      "source": [
        "#7 Write a Python program to find and replace a word in a file (e.g., replace 'old' with 'new').\n",
        "\n",
        "with open(\"sample.txt\", \"r\") as f:\n",
        " content = f.read()\n",
        "content = content.replace(\"Alice\",\"Harsh\")\n",
        "with open(\"sample.txt\", \"w\") as f:\n",
        " f.write(content)"
      ],
      "metadata": {
        "id": "vqpolTWc9IeV"
      },
      "execution_count": null,
      "outputs": []
    },
    {
      "cell_type": "code",
      "source": [
        "#8 Write a Python program to create a log file and append timestamps whenever the program is run.\n",
        "\n",
        "from datetime import datetime\n",
        "with open(\"logfile.txt\", \"a\") as log:\n",
        " log.write(f\"Program run at: {datetime.now()}\\n\")"
      ],
      "metadata": {
        "id": "kYqeYWsh9ouV"
      },
      "execution_count": null,
      "outputs": []
    },
    {
      "cell_type": "code",
      "source": [
        "#9 Write a Python program to store and read student records (name and marks) from a file.\n",
        "\n",
        "with open(\"students.txt\", \"w\") as f:\n",
        " f.write(\"Alice 85\\nBob 90\\nCharlie 78\")\n",
        "with open(\"students.txt\", \"r\") as f:\n",
        " for line in f:\n",
        "     name, marks = line.strip().split()\n",
        "     print(f\"Name: {name}, Marks: {marks}\")"
      ],
      "metadata": {
        "colab": {
          "base_uri": "https://localhost:8080/"
        },
        "id": "UHpEiWoY-WPv",
        "outputId": "6536148d-2879-4d24-9930-89e1d64a87cd"
      },
      "execution_count": null,
      "outputs": [
        {
          "output_type": "stream",
          "name": "stdout",
          "text": [
            "Name: Alice, Marks: 85\n",
            "Name: Bob, Marks: 90\n",
            "Name: Charlie, Marks: 78\n"
          ]
        }
      ]
    },
    {
      "cell_type": "code",
      "source": [
        "#10 Write Python program to copy an image file (binary mode) from one location to another.\n",
        "\n",
        "with open(\"pinterest.jpg\", \"rb\") as src, open(\"pinterest.jpg\", \"wb\") as dest:\n",
        " dest.write(src.read())"
      ],
      "metadata": {
        "id": "0uXjrYrR-lKi"
      },
      "execution_count": null,
      "outputs": []
    },
    {
      "cell_type": "markdown",
      "source": [
        "Assignment 9"
      ],
      "metadata": {
        "id": "YLuLQWPV-6_I"
      }
    },
    {
      "cell_type": "code",
      "source": [
        "# 1. Create a NumPy array with values from 1 to 10. Print the shape, dimension, and data type of the array.\n",
        "\n",
        "import numpy as np\n",
        "arr=np.arange(1,11)\n",
        "print(\"Array:\",arr)\n",
        "print(\"Shape:\",arr.shape)\n",
        "print(\"Dimension:\",arr.ndim)\n",
        "print(\"Data type:\",arr.dtype)"
      ],
      "metadata": {
        "colab": {
          "base_uri": "https://localhost:8080/"
        },
        "id": "vsif0Sem_B5r",
        "outputId": "893c695a-66f5-459c-f3a2-402722ad7e6d"
      },
      "execution_count": null,
      "outputs": [
        {
          "output_type": "stream",
          "name": "stdout",
          "text": [
            "Array: [ 1  2  3  4  5  6  7  8  9 10]\n",
            "Shape: (10,)\n",
            "Dimension: 1\n",
            "Data type: int64\n"
          ]
        }
      ]
    },
    {
      "cell_type": "code",
      "source": [
        "#2 Create a 3x3 NumPy array of all zeros and another of all ones. Then create a 3x3 identity matrix.\n",
        "\n",
        "zeros=np.zeros((3,3))\n",
        "ones=np.ones((3,3))\n",
        "identity=np.identity(3)\n",
        "print(\"Zeros:\\n\",zeros)\n",
        "print(\"Ones:\\n\",ones)\n",
        "print(\"Identity:\\n\", identity)"
      ],
      "metadata": {
        "colab": {
          "base_uri": "https://localhost:8080/"
        },
        "id": "3hjmEyahDu7X",
        "outputId": "aefed357-6286-40b4-8cbc-37ff1a24b9c5"
      },
      "execution_count": null,
      "outputs": [
        {
          "output_type": "stream",
          "name": "stdout",
          "text": [
            "Zeros:\n",
            " [[0. 0. 0.]\n",
            " [0. 0. 0.]\n",
            " [0. 0. 0.]]\n",
            "Ones:\n",
            " [[1. 1. 1.]\n",
            " [1. 1. 1.]\n",
            " [1. 1. 1.]]\n",
            "Identity:\n",
            " [[1. 0. 0.]\n",
            " [0. 1. 0.]\n",
            " [0. 0. 1.]]\n"
          ]
        }
      ]
    },
    {
      "cell_type": "code",
      "source": [
        "#3. Generate an array of 15 random integers between 10 and 100 using np.random.randint. Reshape it into a 3x5 matrix and print it.\n",
        "\n",
        "arr=np.random.randint(10,100,15).reshape(3,5)\n",
        "print(\"Random 3×5 Matrix:\\n\",arr)"
      ],
      "metadata": {
        "colab": {
          "base_uri": "https://localhost:8080/"
        },
        "id": "TghQNjooGWxJ",
        "outputId": "d0188aee-0eac-4f18-dd3f-183486badf21"
      },
      "execution_count": null,
      "outputs": [
        {
          "output_type": "stream",
          "name": "stdout",
          "text": [
            "Random 3×5 Matrix:\n",
            " [[53 64 75 11 56]\n",
            " [38 22 98 32 37]\n",
            " [87 55 31 97 78]]\n"
          ]
        }
      ]
    },
    {
      "cell_type": "code",
      "source": [
        "#4 Create a NumPy array from 1 to 20. Extract every 3rd element starting from index 1 using slicing.\n",
        "\n",
        "arr=np.arange(1,21)\n",
        "result=arr[1::3]\n",
        "print(\"Every 3rd element from index 1:\",result)"
      ],
      "metadata": {
        "colab": {
          "base_uri": "https://localhost:8080/"
        },
        "id": "_Cmvu59mIlPv",
        "outputId": "0a1ad54b-44b3-4c96-b9b5-4e2f00e92c85"
      },
      "execution_count": null,
      "outputs": [
        {
          "output_type": "stream",
          "name": "stdout",
          "text": [
            "Every 3rd element from index 1: [ 2  5  8 11 14 17 20]\n"
          ]
        }
      ]
    },
    {
      "cell_type": "code",
      "source": [
        "#5 Create two arrays: a = np.array([2, 4, 6, 8]) and b = np.array([1, 3, 5, 7]). Perform element-wise addition,multiplication, and compare which elements in a are greater than in b.\n",
        "\n",
        "a=np.array([2,4,6,8])\n",
        "b=np.array([1,3,9,7])\n",
        "print(\"Addition:\",a+b)\n",
        "print(\"Multiplication:\",a*b)\n",
        "print(\"a>b:\",a>b)"
      ],
      "metadata": {
        "colab": {
          "base_uri": "https://localhost:8080/"
        },
        "id": "-HFW6nopJ_Qm",
        "outputId": "63e82256-1b4a-446c-8b46-410fd8fb769e"
      },
      "execution_count": null,
      "outputs": [
        {
          "output_type": "stream",
          "name": "stdout",
          "text": [
            "Addition: [ 3  7 15 15]\n",
            "Multiplication: [ 2 12 54 56]\n",
            "a>b: [ True  True False  True]\n"
          ]
        }
      ]
    },
    {
      "cell_type": "code",
      "source": [
        "#6 Create a NumPy array with 20 random values (0 to 1) using np.random.rand(). Find the mean, median,standard deviation, min, and max\n",
        "\n",
        "arr=np.random.rand(20)\n",
        "print(\"Mean:\",np.mean(arr))\n",
        "print(\"Median:\",np.median(arr))\n",
        "print(\"Std Dev:\",np.std(arr))\n",
        "print(\"Min:\",np.min(arr))\n",
        "print(\"Max:\", np.max(arr))"
      ],
      "metadata": {
        "colab": {
          "base_uri": "https://localhost:8080/"
        },
        "id": "cFfTvWzcMBWy",
        "outputId": "8e7e882c-ead0-4b13-d826-4f67d84574fe"
      },
      "execution_count": null,
      "outputs": [
        {
          "output_type": "stream",
          "name": "stdout",
          "text": [
            "Mean: 0.5580178640720768\n",
            "Median: 0.6374744579928397\n",
            "Std Dev: 0.27080712949847663\n",
            "Min: 0.0502118631969688\n",
            "Max: 0.9491967720905602\n"
          ]
        }
      ]
    },
    {
      "cell_type": "code",
      "source": [
        "#7 Given: arr = np.array([[3, 5], [7, 9]]). Find the sum across rows and columns using axis.\n",
        "\n",
        "arr=np.array([[3,5],[7,9]])\n",
        "print(\"Sum across rows:\",arr.sum(axis=1))\n",
        "print(\"Sum across column:\",arr.sum(axis=0))"
      ],
      "metadata": {
        "colab": {
          "base_uri": "https://localhost:8080/"
        },
        "id": "QchT0l3vPUzG",
        "outputId": "379b0400-f477-41f0-ca71-6898896c5958"
      },
      "execution_count": null,
      "outputs": [
        {
          "output_type": "stream",
          "name": "stdout",
          "text": [
            "Sum across rows: [ 8 16]\n",
            "Sum across column: [10 14]\n"
          ]
        }
      ]
    },
    {
      "cell_type": "code",
      "source": [
        "#8 Create a NumPy array of numbers from 10 to 30. Filter and print only the even numbers using boolean indexing.\n",
        "\n",
        "arr=np.arange(10,31)\n",
        "even=arr[arr%2==0]\n",
        "print(\"Even numbers:\",even)"
      ],
      "metadata": {
        "colab": {
          "base_uri": "https://localhost:8080/"
        },
        "id": "-iJa5xksQns4",
        "outputId": "65d2b611-09a5-413f-a2f4-4bfe378e2d13"
      },
      "execution_count": null,
      "outputs": [
        {
          "output_type": "stream",
          "name": "stdout",
          "text": [
            "Even numbers: [10 12 14 16 18 20 22 24 26 28 30]\n"
          ]
        }
      ]
    },
    {
      "cell_type": "code",
      "source": [
        "#9 Generate an array of 10 random integers from 1 to 100. Replace all elements greater than 50 with -1.\n",
        "\n",
        "arr=np.random.randint(1,101,10)\n",
        "arr[arr>50]=-1\n",
        "print(\"Modified array:\",arr)"
      ],
      "metadata": {
        "colab": {
          "base_uri": "https://localhost:8080/"
        },
        "id": "P9oWCABZRYPX",
        "outputId": "c8bd8d12-6d93-4335-83a9-b5cb77400038"
      },
      "execution_count": null,
      "outputs": [
        {
          "output_type": "stream",
          "name": "stdout",
          "text": [
            "Modified array: [44 -1 -1 32 37 -1 -1 -1 27 21]\n"
          ]
        }
      ]
    },
    {
      "cell_type": "code",
      "source": [
        "#10 Create two arrays: x = np.array([[1, 2], [3, 4]]) and y = np.array([[5, 6], [7, 8]]). Stack them vertically and horizontally, then flatten the result into a 1D array.\n",
        "\n",
        "x = np.array([[1, 2], [3, 4]])\n",
        "y = np.array([[5, 6], [7, 8]])\n",
        "v_stack = np.vstack((x, y))\n",
        "h_stack = np.hstack((x, y))\n",
        "flattened = h_stack.flatten()\n",
        "print(\"Vertical Stack:\\n\", v_stack)\n",
        "print(\"Horizontal Stack:\\n\", h_stack)\n",
        "print(\"Flattened:\", flattened)"
      ],
      "metadata": {
        "colab": {
          "base_uri": "https://localhost:8080/"
        },
        "id": "87aYpqs_SYJW",
        "outputId": "92730e7e-c8fd-4cda-c026-6a37b9663063"
      },
      "execution_count": null,
      "outputs": [
        {
          "output_type": "stream",
          "name": "stdout",
          "text": [
            "Vertical Stack:\n",
            " [[1 2]\n",
            " [3 4]\n",
            " [5 6]\n",
            " [7 8]]\n",
            "Horizontal Stack:\n",
            " [[1 2 5 6]\n",
            " [3 4 7 8]]\n",
            "Flattened: [1 2 5 6 3 4 7 8]\n"
          ]
        }
      ]
    },
    {
      "cell_type": "markdown",
      "source": [
        "Assignment 10"
      ],
      "metadata": {
        "id": "gngyOVukS3WG"
      }
    },
    {
      "cell_type": "code",
      "source": [
        "#1. Load the dataset and display the first 10 rows.\n",
        "\n",
        "import pandas as pd\n",
        "df=pd.read_csv('diamonds.csv')\n",
        "print(df.head(10))"
      ],
      "metadata": {
        "id": "M3Gc3_XPS7WP",
        "colab": {
          "base_uri": "https://localhost:8080/"
        },
        "outputId": "4db20a62-ece3-4a9f-a5fd-035212ad440c"
      },
      "execution_count": null,
      "outputs": [
        {
          "output_type": "stream",
          "name": "stdout",
          "text": [
            "   carat        cut color clarity  depth  table  price     x     y     z\n",
            "0   0.23      Ideal     E     SI2   61.5   55.0    326  3.95  3.98  2.43\n",
            "1   0.21    Premium     E     SI1   59.8   61.0    326  3.89  3.84  2.31\n",
            "2   0.23       Good     E     VS1   56.9   65.0    327  4.05  4.07  2.31\n",
            "3   0.29    Premium     I     VS2   62.4   58.0    334  4.20  4.23  2.63\n",
            "4   0.31       Good     J     SI2   63.3   58.0    335  4.34  4.35  2.75\n",
            "5   0.24  Very Good     J    VVS2   62.8   57.0    336  3.94  3.96  2.48\n",
            "6   0.24  Very Good     I    VVS1   62.3   57.0    336  3.95  3.98  2.47\n",
            "7   0.26  Very Good     H     SI1   61.9   55.0    337  4.07  4.11  2.53\n",
            "8   0.22       Fair     E     VS2   65.1   61.0    337  3.87  3.78  2.49\n",
            "9   0.23  Very Good     H     VS1   59.4   61.0    338  4.00  4.05  2.39\n"
          ]
        }
      ]
    },
    {
      "cell_type": "code",
      "source": [
        "##2. Check the shape and column names of the dataset.\n",
        "\n",
        "import pandas as pd\n",
        "\n",
        "# Load the dataset (replace with your actual file)\n",
        "df = pd.read_csv('diamonds.csv')\n",
        "\n",
        "# Check the shape of the dataset (rows, columns)\n",
        "print(\"Shape of the dataset:\", df.shape)\n",
        "\n",
        "# Check the column names\n",
        "print(\"Column names:\", df.columns.tolist())"
      ],
      "metadata": {
        "colab": {
          "base_uri": "https://localhost:8080/"
        },
        "id": "FmSxFbJ85mY7",
        "outputId": "c680fdc6-bae8-498a-a894-8f534edf4c5c"
      },
      "execution_count": null,
      "outputs": [
        {
          "output_type": "stream",
          "name": "stdout",
          "text": [
            "Shape of the dataset: (50000, 10)\n",
            "Column names: ['carat', 'cut', 'color', 'clarity', 'depth', 'table', 'price', 'x', 'y', 'z']\n"
          ]
        }
      ]
    },
    {
      "cell_type": "code",
      "source": [
        "#3 Find and fill missing numeric values with their respective column means\n",
        "\n",
        "import pandas as pd\n",
        "df = pd.read_csv('diamonds.csv')\n",
        "df.fillna(df.mean(numeric_only=True), inplace=True)\n",
        "df.to_csv('filled_with_means.csv', index=False)\n",
        "print(df)"
      ],
      "metadata": {
        "colab": {
          "base_uri": "https://localhost:8080/"
        },
        "id": "xVrwTOPWC-Fx",
        "outputId": "77c010ec-9260-40dd-914f-d10e0e94bcfd"
      },
      "execution_count": null,
      "outputs": [
        {
          "output_type": "stream",
          "name": "stdout",
          "text": [
            "       carat        cut color clarity  depth  table  price     x     y     z\n",
            "0       0.23      Ideal     E     SI2   61.5   55.0    326  3.95  3.98  2.43\n",
            "1       0.21    Premium     E     SI1   59.8   61.0    326  3.89  3.84  2.31\n",
            "2       0.23       Good     E     VS1   56.9   65.0    327  4.05  4.07  2.31\n",
            "3       0.29    Premium     I     VS2   62.4   58.0    334  4.20  4.23  2.63\n",
            "4       0.31       Good     J     SI2   63.3   58.0    335  4.34  4.35  2.75\n",
            "...      ...        ...   ...     ...    ...    ...    ...   ...   ...   ...\n",
            "49995   0.72      Ideal     D     SI1   60.8   57.0   2757  5.75  5.76  3.50\n",
            "49996   0.72       Good     D     SI1   63.1   55.0   2757  5.69  5.75  3.61\n",
            "49997   0.70  Very Good     D     SI1   62.8   60.0   2757  5.66  5.68  3.56\n",
            "49998   0.86    Premium     H     SI2   61.0   58.0   2757  6.15  6.12  3.74\n",
            "49999   0.75      Ideal     D     SI2   62.2   55.0   2757  5.83  5.87  3.64\n",
            "\n",
            "[50000 rows x 10 columns]\n"
          ]
        }
      ]
    },
    {
      "cell_type": "code",
      "source": [
        "#4 Filter rows where `cut` is \"Ideal\" and `color` is \"E\".\n",
        "\n",
        "import pandas as pd\n",
        "df = pd.read_csv('diamonds.csv')\n",
        "\n",
        "filtered = df.query(\"cut == 'Ideal' and color == 'E'\")"
      ],
      "metadata": {
        "id": "QWKmpAOXAJ9b"
      },
      "execution_count": null,
      "outputs": []
    },
    {
      "cell_type": "code",
      "source": [
        "#5. Group by `cut` and compute the average `price` for each group.\n",
        "\n",
        "# average price for each cut category\n",
        "avg_price_by_cut = (\n",
        "    df.groupby('cut', as_index=False)['price']\n",
        "     .mean()                       # compute the mean\n",
        "     .rename(columns={'price': 'avg_price'})  # optional: clearer name\n",
        "                )\n",
        "\n",
        "print(avg_price_by_cut)"
      ],
      "metadata": {
        "colab": {
          "base_uri": "https://localhost:8080/"
        },
        "id": "zmicHrRTMCpR",
        "outputId": "24b1ae21-7674-48ad-92a1-55d200fae990"
      },
      "execution_count": null,
      "outputs": [
        {
          "output_type": "stream",
          "name": "stdout",
          "text": [
            "         cut    avg_price\n",
            "0       Fair  4329.705017\n",
            "1       Good  3961.470266\n",
            "2      Ideal  3463.090230\n",
            "3    Premium  4607.382867\n",
            "4  Very Good  3986.585594\n"
          ]
        }
      ]
    },
    {
      "cell_type": "code",
      "source": [
        "#6 Sort the data by `carat` in descending order and show the top 5 rows\n",
        "\n",
        "import pandas as pd\n",
        "top5 = df.nlargest(5, 'carat')\n",
        "print(top5)\n"
      ],
      "metadata": {
        "colab": {
          "base_uri": "https://localhost:8080/"
        },
        "id": "NPRv5PqMMpPY",
        "outputId": "b1592c74-0a18-45d5-cd32-7676cae52235"
      },
      "execution_count": null,
      "outputs": [
        {
          "output_type": "stream",
          "name": "stdout",
          "text": [
            "       carat      cut color clarity  depth  table  price      x      y     z\n",
            "25426   5.01     Fair     J      I1   65.5   59.0  18018  10.74  10.54  6.98\n",
            "25624   4.50     Fair     J      I1   65.8   58.0  18531  10.23  10.16  6.72\n",
            "25163   4.13     Fair     H      I1   64.8   61.0  17329  10.00   9.85  6.43\n",
            "24102   4.01  Premium     I      I1   61.0   61.0  15223  10.14  10.10  6.17\n",
            "24103   4.01  Premium     J      I1   62.5   62.0  15223  10.02   9.94  6.24\n"
          ]
        }
      ]
    },
    {
      "cell_type": "code",
      "source": [
        "#7 Convert the `price` column to a NumPy array and find its mean, median, and standard deviation\n",
        "\n",
        "import numpy as np\n",
        "\n",
        "price = df['price'].to_numpy()\n",
        "\n",
        "mean_price   = price.mean()\n",
        "median_price = np.median(price)\n",
        "std_price    = price.std(ddof=0)\n",
        "\n",
        "print(f\"Mean price   : {mean_price:.2f}\")\n",
        "print(f\"Median price : {median_price:.2f}\")\n",
        "print(f\"Std. deviation: {std_price:.2f}\")"
      ],
      "metadata": {
        "colab": {
          "base_uri": "https://localhost:8080/"
        },
        "id": "yptuwXNbPhfA",
        "outputId": "271f6299-6d6f-4b50-d098-e34ee0b46a78"
      },
      "execution_count": null,
      "outputs": [
        {
          "output_type": "stream",
          "name": "stdout",
          "text": [
            "Mean price   : 3944.81\n",
            "Median price : 2410.00\n",
            "Std. deviation: 3997.90\n"
          ]
        }
      ]
    },
    {
      "cell_type": "code",
      "source": [
        "#8. Count diamonds with `price > 5000` and `carat > 1` using NumPy conditions.\n",
        "\n",
        "price = df['price'].to_numpy()\n",
        "carat = df['carat'].to_numpy()\n",
        "\n",
        "mask = (price > 5000) & (carat > 1)\n",
        "\n",
        "count = np.sum(mask)\n",
        "\n",
        "print(f\"Number of diamonds with price > 5000 & carat > 1: {count}\")"
      ],
      "metadata": {
        "colab": {
          "base_uri": "https://localhost:8080/"
        },
        "id": "CQA6YA-ISaZy",
        "outputId": "96c10d5a-8ae6-451b-c711-907e69291f40"
      },
      "execution_count": null,
      "outputs": [
        {
          "output_type": "stream",
          "name": "stdout",
          "text": [
            "Number of diamonds with price > 5000 & carat > 1: 12798\n"
          ]
        }
      ]
    },
    {
      "cell_type": "code",
      "source": [
        "#9. Create a new column `price_updated` by increasing `price` by 10% using NumPy\n",
        "\n",
        "\n",
        "df['price_updated'] = df['price'].to_numpy() * 1.10\n",
        "\n",
        "print(df[['price', 'price_updated']].head())"
      ],
      "metadata": {
        "colab": {
          "base_uri": "https://localhost:8080/"
        },
        "id": "Osgk-xjaTBjY",
        "outputId": "1f387fe0-3da5-4978-e5c7-150f16e63975"
      },
      "execution_count": null,
      "outputs": [
        {
          "output_type": "stream",
          "name": "stdout",
          "text": [
            "   price  price_updated\n",
            "0    326          358.6\n",
            "1    326          358.6\n",
            "2    327          359.7\n",
            "3    334          367.4\n",
            "4    335          368.5\n"
          ]
        }
      ]
    },
    {
      "cell_type": "code",
      "source": [
        "#10. Create a `volume` column as `x*y*z` and find the average `price` where `volume > 50`.\n",
        "\n",
        "df.loc[:, 'volume'] = df['x'] * df['y'] * df['z']\n",
        "\n",
        "average_price = df.loc[df['volume'] > 50, 'price'].mean()\n",
        "\n",
        "print(f\"Average price where volume > 50: {average_price:.2f}\")\n"
      ],
      "metadata": {
        "colab": {
          "base_uri": "https://localhost:8080/"
        },
        "id": "EtuAaXPtTrgb",
        "outputId": "edf54c44-7bde-467f-bfe9-7e8151ab91ff"
      },
      "execution_count": null,
      "outputs": [
        {
          "output_type": "stream",
          "name": "stdout",
          "text": [
            "Average price where volume > 50: 4195.13\n"
          ]
        }
      ]
    }
  ]
}